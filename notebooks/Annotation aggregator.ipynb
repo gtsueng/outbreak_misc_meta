{
 "cells": [
  {
   "cell_type": "markdown",
   "metadata": {},
   "source": [
    "## Outbreak.info resource miscelleneous annotation aggregator\n",
    "This repository aggregates the results from various classification, matching, and/or other programs \n",
    "\n",
    "#### Ignore this, no point in having multiple large files\n",
    "The new method does not require copying all the files into one location"
   ]
  },
  {
   "cell_type": "code",
   "execution_count": 3,
   "metadata": {},
   "outputs": [],
   "source": [
    "import os\n",
    "import pathlib\n",
    "from datetime import datetime\n",
    "import time\n",
    "import shutil\n",
    "\n",
    "\n",
    "def copy_updated_files(general_path,DATAPATH,REVIEWPATH):\n",
    "    altmetricspath = os.path.join(general_path,'covid_altmetrics/results/')\n",
    "    preprintpath = os.path.join(general_path,'outbreak_preprint_matcher/results/update dumps/')\n",
    "    curatepath = os.path.join(general_path,'outbreak_preprint_matcher/results/to review/')\n",
    "    topicspath = os.path.join(general_path,'topic_classifier/results/')\n",
    "    altmetricsfile = os.path.join(altmetricspath,'altmetric_annotations.json')\n",
    "    litcovidpreprint = os.path.join(preprintpath,'litcovid_update_file.json')\n",
    "    preprintlitcovid = os.path.join(preprintpath,'preprint_update_file.json')\n",
    "    matchfile = os.path.join(preprintpath,'update_file.tsv')\n",
    "    topicfile = os.path.join(topicspath,'topicCats.json')\n",
    "    reviewfile1 = os.path.join(curatepath,'manual_check.txt')\n",
    "    reviewfile2 = os.path.join(curatepath,'low_scores.txt')\n",
    "    local_altfile = os.path.join(DATAPATH,'altmetric_annotations.json')\n",
    "    local_litcovid = os.path.join(DATAPATH,'litcovid_update_file.json')\n",
    "    local_preprint = os.path.join(DATAPATH,'preprint_update_file.json')\n",
    "    local_topic = os.path.join(DATAPATH,'topicCats.json')\n",
    "    local_review1 = os.path.join(REVIEWPATH,'manual_check.txt')\n",
    "    local_review2 = os.path.join(REVIEWPATH,'low_scores.txt')\n",
    "    local_match = os.path.join(DATAPATH,'update_file.tsv')\n",
    "    if os.path.getmtime(topicfile) > os.path.getmtime(local_topic):\n",
    "        src_top=open(topicfile, 'rb')\n",
    "        targ_top= open(local_topic, 'wb')\n",
    "        shutil.copyfileobj( src_top, targ_top)\n",
    "    if os.path.getmtime(altmetricsfile) > os.path.getmtime(local_altfile):\n",
    "        src_alt=open(altmetricsfile, 'rb')\n",
    "        targ_alt= open(local_altfile, 'wb')\n",
    "        shutil.copyfileobj(src_alt, targ_alt)\n",
    "    if os.path.getmtime(litcovidpreprint) > os.path.getmtime(local_litcovid):\n",
    "        src_lit=open(litcovidpreprint, 'rb')\n",
    "        targ_lit= open(local_litcovid, 'wb')\n",
    "        shutil.copyfileobj(src_lit, targ_lit)\n",
    "    if os.path.getmtime(preprintlitcovid) > os.path.getmtime(local_preprint):\n",
    "        src_preprint=open(preprintlitcovid, 'rb')\n",
    "        targ_preprint= open(local_preprint, 'wb')\n",
    "        shutil.copyfileobj(src_preprint, targ_preprint)\n",
    "    if os.path.getmtime(reviewfile1) > os.path.getmtime(local_review1):\n",
    "        src_rev1=open(reviewfile1, 'r')\n",
    "        targ_rev1= open(local_review1, 'w')\n",
    "        shutil.copyfileobj(src_rev1, targ_rev1)\n",
    "    if os.path.getmtime(reviewfile2) > os.path.getmtime(local_review2):\n",
    "        src_rev2=open(reviewfile2, 'r')\n",
    "        targ_rev2= open(local_review2, 'w')\n",
    "        shutil.copyfileobj(src_rev2, targ_rev2)\n",
    "    if os.path.getmtime(matchfile) > os.path.getmtime(local_match):\n",
    "        src_match=open(matchfile, 'r')\n",
    "        targ_match= open(local_match, 'w')\n",
    "        shutil.copyfileobj(src_match, targ_match)"
   ]
  },
  {
   "cell_type": "code",
   "execution_count": 5,
   "metadata": {},
   "outputs": [],
   "source": [
    "#script_path = pathlib.Path(__file__).parent.absolute()\n",
    "#try:\n",
    "#    general_path = pathlib.Path(__file__).parents[1].absolute()\n",
    "#except:\n",
    "#    general_path = pathlib.Path(__file__).resolve().parents[1].absolute()\n",
    "\n",
    "script_path = ''\n",
    "general_path = os.path.abspath(os.path.join(os.getcwd(),\"../\"))\n",
    "DATAPATH = os.path.join(script_path,'data/')\n",
    "REVIEWPATH = os.path.join(script_path,'to_curate/')\n",
    "copy_updated_files(general_path,DATAPATH,REVIEWPATH)"
   ]
  },
  {
   "cell_type": "code",
   "execution_count": 18,
   "metadata": {},
   "outputs": [],
   "source": []
  },
  {
   "cell_type": "code",
   "execution_count": 19,
   "metadata": {},
   "outputs": [],
   "source": []
  },
  {
   "cell_type": "code",
   "execution_count": 12,
   "metadata": {},
   "outputs": [],
   "source": []
  },
  {
   "cell_type": "code",
   "execution_count": null,
   "metadata": {},
   "outputs": [],
   "source": []
  }
 ],
 "metadata": {
  "kernelspec": {
   "display_name": "Python 3",
   "language": "python",
   "name": "python3"
  },
  "language_info": {
   "codemirror_mode": {
    "name": "ipython",
    "version": 3
   },
   "file_extension": ".py",
   "mimetype": "text/x-python",
   "name": "python",
   "nbconvert_exporter": "python",
   "pygments_lexer": "ipython3",
   "version": "3.8.5"
  }
 },
 "nbformat": 4,
 "nbformat_minor": 4
}
