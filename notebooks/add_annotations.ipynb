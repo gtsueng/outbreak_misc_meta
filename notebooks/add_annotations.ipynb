{
 "cells": [
  {
   "cell_type": "code",
   "execution_count": 32,
   "metadata": {},
   "outputs": [],
   "source": [
    "import os\n",
    "import json\n",
    "\n",
    "def find_gen_path():\n",
    "    tmp_dir = os.getcwd()\n",
    "    while 'topic_classifier' not in os.listdir(tmp_dir):\n",
    "        tmp_dir = os.path.dirname(tmp_dir)\n",
    "    return(tmp_dir)\n",
    "\n",
    "def fetch_path_dict():\n",
    "    general_path = find_gen_path()\n",
    "    topic_folder = os.path.join(general_path,'topic_classifier')\n",
    "    topic_results = os.path.join(topic_folder,'results')\n",
    "    alt_path = os.path.join(general_path,'covid_altmetrics')\n",
    "    alt_results = os.path.join(alt_path,'results')\n",
    "    preprint_path = os.path.join(general_path,'outbreak_preprint_matcher')\n",
    "    preprint_results = os.path.join(preprint_path,'results')\n",
    "    preprint_dumps = os.path.join(preprint_results,'update dumps')\n",
    "    loe_ann_path = os.path.join(general_path,'covid19_LST_annotations')\n",
    "    loe_results = os.path.join(loe_ann_path,'results')\n",
    "    path_dict = {\n",
    "        'topics_file':os.path.join(topic_results,'topic_cats.json'),\n",
    "        'altmetrics_file':os.path.join(alt_results,'altmetric_annotations.json'),\n",
    "        'litcovid_updates':os.path.join(preprint_dumps,'litcovid_update_file.json'),\n",
    "        'preprint_updates':os.path.join(preprint_dumps,'preprint_update_file.json'),\n",
    "        'loe_annotations':os.path.join(loe_results,'loe_annotations.json')\n",
    "        }\n",
    "    return(path_dict)\n",
    "\n",
    "def fetch_topics(path_dict,outbreak_id):\n",
    "    with open(path_dict['topics_file']) as infile:\n",
    "        topics_dict = json.load(infile)\n",
    "    for i in range(len(topics_dict)):\n",
    "        if topics_dict[i]['_id']==outbreak_id:\n",
    "            topicinfo = topics_dict[i]\n",
    "            return(topicinfo)    \n",
    "\n",
    "def fetch_preprint_updates(path_dict,preprint_id):\n",
    "    with open(path_dict['preprint_updates'],'r') as infile:\n",
    "        preprint_dict = json.load(infile)\n",
    "    for i in range(len(preprint_dict)):\n",
    "        if preprint_dict[i]['_id']==preprint_id:\n",
    "            preprint_info = preprint_dict[i]\n",
    "            return(preprint_info)\n",
    "\n",
    "def fetch_reviewed_updates(path_dict,litcovid_id):\n",
    "    with open(path_dict['litcovid_updates'],'r') as infile:\n",
    "        litcovid_dict = json.load(infile)\n",
    "    for i in range(len(litcovid_dict)):\n",
    "        if litcovid_dict[i]['_id']==litcovid_id:\n",
    "            litcovid_info = litcovid_dict[i]\n",
    "            return(litcovid_info)\n",
    "    \n",
    "def check_altmetrics(path_dict,outbreak_id):\n",
    "    with open(path_dict['altmetrics_file']) as infile:\n",
    "        altmetrics_dict = json.load(infile)\n",
    "    for i in range(len(altmetrics_dict)):\n",
    "        if altmetrics_dict[i]['_id']==outbreak_id:\n",
    "            altinfo = altmetrics_dict[i]\n",
    "            return(altinfo)\n",
    "\n",
    "def check_loe_anns(path_dict,outbreak_id):\n",
    "    with open(path_dict['loe_annotations']) as infile:\n",
    "        loe_dict = json.load(infile)\n",
    "    for i in range(len(loe_dict)):\n",
    "        if loe_dict[i]['_id']==outbreak_id:\n",
    "            loe_info = loe_dict[i]\n",
    "            return(loe_info)\n",
    "\n",
    "def add_anns(doc):\n",
    "    path_dict = fetch_path_dict()\n",
    "    ## add corrections\n",
    "    if doc['@type']=='Publication':\n",
    "        if 'pmid' in doc['_id']:\n",
    "            ## doc is from litcovid\n",
    "            corrections = fetch_reviewed_updates(path_dict,doc['_id'])\n",
    "            loe_info = check_loe_anns(path_dict,doc['_id'])\n",
    "        else:\n",
    "            corrections = fetch_preprint_updates(path_dict,doc['_id'])\n",
    "            loe_info == None\n",
    "        if corrections != None:\n",
    "            if 'correction' in doc.keys():  ## check if correction field already used\n",
    "                doc['correction'].append(corrections)\n",
    "            else:\n",
    "                doc['correction']=corrections\n",
    "        if loe_info != None:\n",
    "            doc['evaluations'] = loe_info['evaluations']\n",
    "            if 'citedBy' in doc.keys():\n",
    "                doc['citedBy'].append(loe_info['citedBy'])\n",
    "            else:\n",
    "                doc['citedBy'] = []\n",
    "                doc['citedBy'].append(loe_info['citedBy'])\n",
    "    ## add topic_cats\n",
    "    topic_cats = fetch_topics(path_dict,doc['_id'])\n",
    "    if topic_cats != None:\n",
    "        doc['topicCategory']=topic_cats\n",
    "    ## add altmetrics\n",
    "    altinfo = check_altmetrics(path_dict,doc['_id'])\n",
    "    if altinfo != None:\n",
    "        if 'evaluations' in doc.keys():\n",
    "            doc['evaluations'].append(altinfo['evaluations'][0])\n",
    "        else:\n",
    "            doc['evaluations'] = altinfo['evaluations']\n",
    "            \n",
    "    return(doc)\n",
    "            \n",
    "    "
   ]
  },
  {
   "cell_type": "code",
   "execution_count": 41,
   "metadata": {},
   "outputs": [
    {
     "name": "stdout",
     "output_type": "stream",
     "text": [
      "{'_id': 'pmid32562477', 'correction': [{'@type': 'Correction', 'identifier': '2020.04.20.20073155', 'correctionType': 'preprint', 'url': 'https://doi.org/10.1101/2020.04.20.20073155'}]}\n",
      "dict_keys(['_id', 'correction'])\n",
      "yes\n"
     ]
    }
   ],
   "source": [
    "path_dict = fetch_path_dict()\n",
    "with open(path_dict['litcovid_updates'],'r') as infile:\n",
    "    preprint_dict = json.load(infile)\n",
    "for i in range(len(preprint_dict)):\n",
    "    if preprint_dict[i]['_id']=='pmid32562477':\n",
    "        print(preprint_dict[i])\n",
    "        break\n",
    "\n",
    "print(preprint_dict[0].keys())\n",
    "if 'correction' in preprint_dict[0].keys():\n",
    "    print('yes')"
   ]
  },
  {
   "cell_type": "code",
   "execution_count": 35,
   "metadata": {},
   "outputs": [
    {
     "name": "stdout",
     "output_type": "stream",
     "text": [
      "{'_id': 'pmid32562477', 'correction': [{'@type': 'Correction', 'identifier': '2020.04.20.20073155', 'correctionType': 'preprint', 'url': 'https://doi.org/10.1101/2020.04.20.20073155'}]}\n",
      "no check\n"
     ]
    }
   ],
   "source": [
    "path_dict = fetch_path_dict()\n",
    "litcovid_info = fetch_reviewed_updates(path_dict,'pmid32562477')\n",
    "check = fetch_preprint_updates(path_dict,'pmid32562477')\n",
    "print(litcovid_info)\n",
    "if check == None:\n",
    "    print('no check')"
   ]
  },
  {
   "cell_type": "code",
   "execution_count": 42,
   "metadata": {},
   "outputs": [
    {
     "name": "stdout",
     "output_type": "stream",
     "text": [
      "{'_id': '10.1016/j.isci.2020.101406', 'evaluations': [{'@type': 'AggregateRating', 'author': {'@type': 'Organization', 'identifier': 'altmetric', 'name': 'Altmetric', 'affiliation': ['Digital Science'], 'curationDate': '2021-07-19'}, 'identifier': 86462111, 'url': 'http://www.altmetric.com/details.php?citation_id=86462111', 'image': 'https://badges.altmetric.com/?size=64&score=115&types=tttttttf', 'name': 'Altmetric', 'reviewAspect': 'Altmetric score', 'ratingValue': 114.4, 'reviews': [{'@type': 'Review', 'reviewAspect': 'cited_by_fbwalls_count', 'reviewRating': {'ratingValue': 1}}, {'@type': 'Review', 'reviewAspect': 'cited_by_feeds_count', 'reviewRating': {'ratingValue': 0}}, {'@type': 'Review', 'reviewAspect': 'cited_by_gplus_count', 'reviewRating': {'ratingValue': 0}}, {'@type': 'Review', 'reviewAspect': 'cited_by_msm_count', 'reviewRating': {'ratingValue': 0}}, {'@type': 'Review', 'reviewAspect': 'cited_by_posts_count', 'reviewRating': {'ratingValue': 220}}, {'@type': 'Review', 'reviewAspect': 'cited_by_rdts_count', 'reviewRating': {'ratingValue': 0}}, {'@type': 'Review', 'reviewAspect': 'cited_by_tweeters_count', 'reviewRating': {'ratingValue': 195}}, {'@type': 'Review', 'reviewAspect': 'cited_by_videos_count', 'reviewRating': {'ratingValue': 0}}, {'@type': 'Review', 'reviewAspect': 'cited_by_accounts_count', 'reviewRating': {'ratingValue': 196}}, {'@type': 'Review', 'reviewAspect': 'readers_count', 'reviewRating': {'ratingValue': 268}}, {'@type': 'Review', 'reviewAspect': 'citeulike reader count', 'reviewRating': {'ratingValue': '0'}}, {'@type': 'Review', 'reviewAspect': 'mendeley reader count', 'reviewRating': {'ratingValue': '268'}}, {'@type': 'Review', 'reviewAspect': 'connotea reader count', 'reviewRating': {'ratingValue': '0'}}]}]}\n"
     ]
    }
   ],
   "source": [
    "with open(path_dict['altmetrics_file']) as infile:\n",
    "    altmetrics_dict = json.load(infile)\n",
    "print(altmetrics_dict[1])"
   ]
  },
  {
   "cell_type": "code",
   "execution_count": null,
   "metadata": {},
   "outputs": [],
   "source": []
  }
 ],
 "metadata": {
  "kernelspec": {
   "display_name": "Python 3",
   "language": "python",
   "name": "python3"
  },
  "language_info": {
   "codemirror_mode": {
    "name": "ipython",
    "version": 3
   },
   "file_extension": ".py",
   "mimetype": "text/x-python",
   "name": "python",
   "nbconvert_exporter": "python",
   "pygments_lexer": "ipython3",
   "version": "3.8.5"
  }
 },
 "nbformat": 4,
 "nbformat_minor": 4
}
